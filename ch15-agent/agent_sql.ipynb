{
 "cells": [
  {
   "cell_type": "code",
   "execution_count": 2,
   "id": "5bcdf60c",
   "metadata": {},
   "outputs": [
    {
     "name": "stdout",
     "output_type": "stream",
     "text": [
      "Dialect: sqlite\n",
      "Available tables: ['Album', 'Artist', 'Customer', 'Employee', 'Genre', 'Invoice', 'InvoiceLine', 'MediaType', 'Playlist', 'PlaylistTrack', 'Track']\n",
      "Sample output: [(1, 'AC/DC'), (2, 'Accept'), (3, 'Aerosmith'), (4, 'Alanis Morissette'), (5, 'Alice In Chains')]\n",
      "sql_db_query: Input to this tool is a detailed and correct SQL query, output is a result from the database. If the query is not correct, an error message will be returned. If an error is returned, rewrite the query, check the query, and try again. If you encounter an issue with Unknown column 'xxxx' in 'field list', use sql_db_schema to query the correct table fields.\n",
      "\n",
      "sql_db_schema: Input to this tool is a comma-separated list of tables, output is the schema and sample rows for those tables. Be sure that the tables actually exist by calling sql_db_list_tables first! Example Input: table1, table2, table3\n",
      "\n",
      "sql_db_list_tables: Input is an empty string, output is a comma-separated list of tables in the database.\n",
      "\n",
      "sql_db_query_checker: Use this tool to double check if your query is correct before executing it. Always use this tool before executing a query with sql_db_query!\n",
      "\n"
     ]
    }
   ],
   "source": [
    "from typing import Literal\n",
    "from langchain_core.messages import AIMessage\n",
    "from langchain_core.runnables import RunnableConfig\n",
    "from langgraph.graph import END, START, MessagesState, StateGraph\n",
    "from langgraph.prebuilt import ToolNode\n",
    "\n",
    "from langchain.chat_models import init_chat_model\n",
    "llm = init_chat_model(model=\"openai:gpt-4.1-mini\")\n",
    "\n",
    "from langchain_community.utilities import SQLDatabase\n",
    "db = SQLDatabase.from_uri(\"sqlite:///../data/Chinook.db\")\n",
    "print(f\"Dialect: {db.dialect}\")\n",
    "print(f\"Available tables: {db.get_usable_table_names()}\")\n",
    "print(f'Sample output: {db.run(\"SELECT * FROM Artist LIMIT 5;\")}') \n",
    "\n",
    "from langchain_community.agent_toolkits import SQLDatabaseToolkit\n",
    "toolkit = SQLDatabaseToolkit(db=db, llm=llm)\n",
    "tools = toolkit.get_tools()\n",
    "for tool in tools:    \n",
    "    print(f\"{tool.name}: {tool.description}\\n\")\n",
    "\n",
    "\n",
    "get_schema_tool = next(tool for tool in tools if tool.name == \"sql_db_schema\")\n",
    "get_schema_node = ToolNode([get_schema_tool], name=\"get_schema\")\n",
    "\n",
    "run_query_tool = next(tool for tool in tools if tool.name == \"sql_db_query\")\n",
    "run_query_node = ToolNode([run_query_tool], name=\"run_query\")\n",
    "\n",
    "HITL = True # Human in the loop"
   ]
  },
  {
   "cell_type": "code",
   "execution_count": 3,
   "id": "b474b0dc",
   "metadata": {},
   "outputs": [],
   "source": [
    "def list_tables(state: MessagesState):\n",
    "    tool_call = {\n",
    "        \"name\": \"sql_db_list_tables\",\n",
    "        \"args\": {},\n",
    "        \"id\": \"abc123\",\n",
    "        \"type\": \"tool_call\",\n",
    "    }\n",
    "    tool_call_message = AIMessage(content=\"\", tool_calls=[tool_call])\n",
    "    list_tables_tool = next(tool for tool in tools if tool.name == \"sql_db_list_tables\")\n",
    "    tool_message = list_tables_tool.invoke(tool_call)\n",
    "    response = AIMessage(f\"Available tables: {tool_message.content}\")\n",
    "    return {\"messages\": [tool_call_message, tool_message, response]}\n",
    "\n",
    "\n",
    "# Example: force a model to create a tool call\n",
    "def call_get_schema(state: MessagesState):\n",
    "    # Note that LangChain enforces that all models accept `tool_choice=\"any\"`\n",
    "    # as well as `tool_choice=<string name of tool>`.\n",
    "    llm_with_tools = llm.bind_tools([get_schema_tool], tool_choice=\"any\")\n",
    "    response = llm_with_tools.invoke(state[\"messages\"])\n",
    "    return {\"messages\": [response]}"
   ]
  },
  {
   "cell_type": "code",
   "execution_count": 4,
   "id": "ea815819",
   "metadata": {},
   "outputs": [
    {
     "name": "stdout",
     "output_type": "stream",
     "text": [
      "#### generate_query_system_prompt \n",
      "  \n",
      "You are an agent designed to interact with a SQL database.\n",
      "Given an input question, create a syntactically correct sqlite query to run,\n",
      "then look at the results of the query and return the answer. Unless the user\n",
      "specifies a specific number of examples they wish to obtain, always limit your\n",
      "query to at most 5 results.\n",
      "You can order the results by a relevant column to return the most interesting\n",
      "examples in the database. Never query for all the columns from a specific table,\n",
      "only ask for the relevant columns given the question.\n",
      "DO NOT make any DML statements (INSERT, UPDATE, DELETE, DROP etc.) to the database.\n",
      " \n",
      "\n"
     ]
    }
   ],
   "source": [
    "generate_query_system_prompt = \"\"\"\n",
    "You are an agent designed to interact with a SQL database.\n",
    "Given an input question, create a syntactically correct {dialect} query to run,\n",
    "then look at the results of the query and return the answer. Unless the user\n",
    "specifies a specific number of examples they wish to obtain, always limit your\n",
    "query to at most {top_k} results.\n",
    "You can order the results by a relevant column to return the most interesting\n",
    "examples in the database. Never query for all the columns from a specific table,\n",
    "only ask for the relevant columns given the question.\n",
    "DO NOT make any DML statements (INSERT, UPDATE, DELETE, DROP etc.) to the database.\n",
    "\"\"\".format(\n",
    "    dialect=db.dialect,\n",
    "    top_k=5,\n",
    ")\n",
    "\n",
    "print(\"#### generate_query_system_prompt \\n \", generate_query_system_prompt, \"\\n\")\n",
    "\n",
    "def generate_query(state: MessagesState):\n",
    "    system_message = {\n",
    "        \"role\": \"system\",\n",
    "        \"content\": generate_query_system_prompt,\n",
    "    }\n",
    "    # We do not force a tool call here, to allow the model to\n",
    "    # respond naturally when it obtains the solution.\n",
    "    llm_with_tools = llm.bind_tools([run_query_tool])\n",
    "    response = llm_with_tools.invoke([system_message] + state[\"messages\"])\n",
    "    return {\"messages\": [response]}"
   ]
  },
  {
   "cell_type": "code",
   "execution_count": 5,
   "id": "aefca495",
   "metadata": {},
   "outputs": [],
   "source": [
    "check_query_system_prompt = \"\"\"\n",
    "You are a SQL expert with a strong attention to detail.\n",
    "Double check the {dialect} query for common mistakes, including:\n",
    "- Using NOT IN with NULL values\n",
    "- Using UNION when UNION ALL should have been used\n",
    "- Using BETWEEN for exclusive ranges\n",
    "- Data type mismatch in predicates\n",
    "- Properly quoting identifiers\n",
    "- Using the correct number of arguments for functions\n",
    "- Casting to the correct data type\n",
    "- Using the proper columns for joins\n",
    "If there are any of the above mistakes, rewrite the query. If there are no mistakes,\n",
    "just reproduce the original query.\n",
    "You will call the appropriate tool to execute the query after running this check.\n",
    "\"\"\".format(dialect=db.dialect)\n",
    "\n",
    "\n",
    "def check_query(state: MessagesState):\n",
    "    system_message = {\n",
    "        \"role\": \"system\",\n",
    "        \"content\": check_query_system_prompt,\n",
    "    }\n",
    "    # Generate an artificial user message to check\n",
    "    tool_call = state[\"messages\"][-1].tool_calls[0]\n",
    "    user_message = {\"role\": \"user\", \"content\": tool_call[\"args\"][\"query\"]}\n",
    "    llm_with_tools = llm.bind_tools([run_query_tool], tool_choice=\"any\")\n",
    "    response = llm_with_tools.invoke([system_message, user_message])\n",
    "    response.id = state[\"messages\"][-1].id\n",
    "    return {\"messages\": [response]}\n",
    "\n",
    "\n",
    "def should_continue(state: MessagesState) -> Literal[END, \"check_query\"]:\n",
    "    messages = state[\"messages\"]\n",
    "    last_message = messages[-1]\n",
    "    if not last_message.tool_calls:\n",
    "        return END\n",
    "    else:\n",
    "        return \"check_query\""
   ]
  },
  {
   "cell_type": "code",
   "execution_count": 6,
   "id": "332595b1",
   "metadata": {},
   "outputs": [],
   "source": [
    "builder = StateGraph(MessagesState)\n",
    "builder.add_node(list_tables)\n",
    "builder.add_node(call_get_schema)\n",
    "builder.add_node(get_schema_node, \"get_schema\")\n",
    "builder.add_node(generate_query)\n",
    "builder.add_node(check_query)\n",
    "builder.add_node(run_query_node, \"run_query\")\n",
    "\n",
    "builder.add_edge(START, \"list_tables\")\n",
    "builder.add_edge(\"list_tables\", \"call_get_schema\")\n",
    "builder.add_edge(\"call_get_schema\", \"get_schema\")\n",
    "builder.add_edge(\"get_schema\", \"generate_query\")\n",
    "\n",
    "# graph_builder = StateGraph(State).add_sequence(\n",
    "#     [list_tables, call_get_schema, get_schema, generate_query]\n",
    "# )\n",
    "\n",
    "builder.add_conditional_edges(\n",
    "    \"generate_query\",\n",
    "    should_continue,\n",
    ")\n",
    "\n",
    "builder.add_edge(\"check_query\", \"run_query\")\n",
    "builder.add_edge(\"run_query\", \"generate_query\")\n",
    "\n",
    "if HITL:\n",
    "    ## add humna in the loop if needed\n",
    "    from langgraph.checkpoint.memory import MemorySaver\n",
    "    memory = MemorySaver()\n",
    "    agent = builder.compile(checkpointer=memory, interrupt_before=[\"run_query\"])\n",
    "    \n",
    "else:\n",
    "    agent = builder.compile()\n",
    "\n",
    "config = {\"configurable\": {\"thread_id\": \"1\"}}"
   ]
  },
  {
   "cell_type": "code",
   "execution_count": 7,
   "id": "1e042e12",
   "metadata": {},
   "outputs": [
    {
     "data": {
      "image/png": "[encoded data removed]",
      "text/plain": [
       "<IPython.core.display.Image object>"
      ]
     },
     "metadata": {},
     "output_type": "display_data"
    }
   ],
   "source": [
    "from IPython.display import Image, display\n",
    "from langchain_core.runnables.graph import CurveStyle, MermaidDrawMethod, NodeStyles\n",
    "display(Image(agent.get_graph().draw_mermaid_png()))"
   ]
  },
  {
   "cell_type": "code",
   "execution_count": null,
   "id": "48a7a805",
   "metadata": {},
   "outputs": [],
   "source": [
    "question = \"Which sales agent made the most in sales in 2009?\"\n",
    "for step in agent.stream(\n",
    "    {\"messages\": [{\"role\":\"user\",\"content\": question}]},\n",
    "    config,\n",
    "    stream_mode=\"values\",):\n",
    "    step[\"messages\"][-1].pretty_print()\n",
    "\n",
    "if HITL:\n",
    "    try:\n",
    "        user_approval = input(\"Do you want to go to execute query? (yes/no): \")\n",
    "    except Exception:\n",
    "        user_approval = \"no\"\n",
    "\n",
    "    if user_approval.lower() == \"yes\":\n",
    "        # If approved, continue the graph execution\n",
    "        for step in agent.stream(None, config, stream_mode=\"updates\"):\n",
    "            print(step)\n",
    "    else:\n",
    "        print(\"Operation cancelled by user.\")   "
   ]
  }
 ],
 "metadata": {
  "kernelspec": {
   "display_name": "lenono",
   "language": "python",
   "name": "python3"
  },
  "language_info": {
   "codemirror_mode": {
    "name": "ipython",
    "version": 3
   },
   "file_extension": ".py",
   "mimetype": "text/x-python",
   "name": "python",
   "nbconvert_exporter": "python",
   "pygments_lexer": "ipython3",
   "version": "3.10.13"
  }
 },
 "nbformat": 4,
 "nbformat_minor": 5
}
